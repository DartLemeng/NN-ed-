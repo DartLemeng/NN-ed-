{
 "cells": [
  {
   "cell_type": "markdown",
   "id": "7324c864",
   "metadata": {
    "toc": true
   },
   "source": [
    "<h1>Table of Contents<span class=\"tocSkip\"></span></h1>\n",
    "<div class=\"toc\"><ul class=\"toc-item\"></ul></div>"
   ]
  },
  {
   "cell_type": "code",
   "execution_count": 16,
   "id": "c710fb4a",
   "metadata": {},
   "outputs": [],
   "source": [
    "from tensorflow.keras.datasets import fashion_mnist\n",
    "from tensorflow.keras.models import Sequential\n",
    "from tensorflow.keras.layers import Conv2D, Flatten, Dense, AvgPool2D\n",
    "from tensorflow.keras.optimizers import Adam\n",
    "from tensorflow.keras.preprocessing.image import ImageDataGenerator\n",
    "\n",
    "import numpy as np"
   ]
  },
  {
   "cell_type": "code",
   "execution_count": 17,
   "id": "353f5090",
   "metadata": {},
   "outputs": [],
   "source": [
    "def load_train(path):\n",
    "    \n",
    "    datagen = ImageDataGenerator(rescale=1/255)\n",
    "\n",
    "    train_datagen_flow = datagen.flow_from_directory(\n",
    "        path,\n",
    "        target_size=(150, 150),\n",
    "        batch_size=16,\n",
    "        class_mode='sparse',\n",
    "        subset='training',\n",
    "        seed=12345)\n",
    "   \n",
    "    return train_datagen_flow"
   ]
  },
  {
   "cell_type": "code",
   "execution_count": 18,
   "id": "f7a17c60",
   "metadata": {},
   "outputs": [],
   "source": [
    "def create_model(input_shape):\n",
    "    \n",
    "    optimizer = Adam(lr=0.01) \n",
    "    \n",
    "    model = Sequential()\n",
    "\n",
    "    model.add(Conv2D(6, (5, 5), padding='same', activation='relu',\n",
    "                 input_shape=(150, 150, 3)))\n",
    "    model.add(AvgPool2D(pool_size=(2, 2)))\n",
    "\n",
    "    model.add(Conv2D(filters=16, kernel_size=(5, 5), padding='valid',\n",
    "                 activation=\"relu\"))\n",
    "\n",
    "    model.add(AvgPool2D(pool_size=(2, 2), strides=None, padding='valid'))\n",
    "    \n",
    "    model.add(Conv2D(filters=16, kernel_size=(5, 5), padding='valid',\n",
    "                 activation=\"relu\"))\n",
    "\n",
    "    model.add(AvgPool2D(pool_size=(2, 2), strides=None, padding='valid'))\n",
    "    \n",
    "    model.add(Conv2D(filters=16, kernel_size=(5, 5), padding='valid',\n",
    "                 activation=\"relu\"))\n",
    "\n",
    "    model.add(AvgPool2D(pool_size=(2, 2), strides=None, padding='valid'))\n",
    "\n",
    "    model.add(Flatten())\n",
    "\n",
    "    model.add(Dense(units=100, activation='relu'))\n",
    "\n",
    "    model.add(Dense(units=50, activation='relu'))\n",
    "\n",
    "    model.add(Dense(units=12, activation='softmax'))\n",
    "\n",
    "    model.compile(optimizer=optimizer, loss='sparse_categorical_crossentropy', metrics=['acc']) \n",
    "\n",
    "\n",
    "    return model"
   ]
  },
  {
   "cell_type": "code",
   "execution_count": 19,
   "id": "0dd3f53f",
   "metadata": {},
   "outputs": [],
   "source": [
    "def train_model(model, train_data, test_data, batch_size=None, epochs=15,\n",
    "               steps_per_epoch=None, validation_steps=None):\n",
    "\n",
    "    model.fit(train_data, \n",
    "              validation_data=test_data,\n",
    "              batch_size=batch_size, epochs=epochs,\n",
    "              steps_per_epoch=steps_per_epoch,\n",
    "              validation_steps=validation_steps,\n",
    "              verbose=2, shuffle=True)\n",
    "\n",
    "    return model "
   ]
  }
 ],
 "metadata": {
  "kernelspec": {
   "display_name": "Python 3",
   "language": "python",
   "name": "python3"
  },
  "language_info": {
   "codemirror_mode": {
    "name": "ipython",
    "version": 3
   },
   "file_extension": ".py",
   "mimetype": "text/x-python",
   "name": "python",
   "nbconvert_exporter": "python",
   "pygments_lexer": "ipython3",
   "version": "3.7.12"
  },
  "toc": {
   "base_numbering": 1,
   "nav_menu": {},
   "number_sections": true,
   "sideBar": true,
   "skip_h1_title": true,
   "title_cell": "Table of Contents",
   "title_sidebar": "Contents",
   "toc_cell": true,
   "toc_position": {},
   "toc_section_display": true,
   "toc_window_display": false
  }
 },
 "nbformat": 4,
 "nbformat_minor": 5
}
